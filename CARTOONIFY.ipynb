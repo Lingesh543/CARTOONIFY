{
 "cells": [
  {
   "cell_type": "markdown",
   "id": "1074ff36",
   "metadata": {},
   "source": [
    "# IMAGE CARTOONIFY "
   ]
  },
  {
   "cell_type": "markdown",
   "id": "a315cdfd",
   "metadata": {},
   "source": [
    "IMPORT MODULES"
   ]
  },
  {
   "cell_type": "code",
   "execution_count": null,
   "id": "f26a18af",
   "metadata": {},
   "outputs": [],
   "source": [
    "import cv2 #for image processing\n",
    "import easygui #to open the filebox\n",
    "import numpy as np #to store image\n",
    "import imageio #to read image stored at particular path\n",
    "import sys\n",
    "import matplotlib.pyplot as plt\n",
    "import os\n",
    "import tkinter as tk\n",
    "from tkinter import filedialog\n",
    "from tkinter import *\n",
    "from PIL import ImageTk, Image"
   ]
  },
  {
   "cell_type": "markdown",
   "id": "c08bb90d",
   "metadata": {},
   "source": [
    "BUILD THE FILEBOX"
   ]
  },
  {
   "cell_type": "code",
   "execution_count": null,
   "id": "d0317671",
   "metadata": {},
   "outputs": [],
   "source": [
    "\"\"\" fileopenbox opens the box to choose file\n",
    "and help us store file path as string \"\"\"\n",
    "def upload():\n",
    "    ImagePath=easygui.fileopenbox()\n",
    "    cartoonify(ImagePath)"
   ]
  },
  {
   "cell_type": "code",
   "execution_count": null,
   "id": "9a09f6f3",
   "metadata": {},
   "outputs": [],
   "source": [
    "def cartoonify(ImagePath):\n",
    "    #read the image\n",
    "    originalmage = cv2.imread(ImagePath)\n",
    "    originalmage = cv2.cvtColor(originalmage, cv2.COLOR_BGR2RGB)\n",
    "#print(image)  # image is stored in form of numbers\n",
    "\n",
    "# confirm that image is chosen\n",
    "    if originalmage is None:\n",
    "        print(\"Can not find any image. Choose appropriate file\")\n",
    "        sys.exit()\n",
    "\n",
    "    ReSized1 = cv2.resize(originalmage, (960, 540))\n",
    "#plt.imshow(ReSized1, cmap='gray')"
   ]
  },
  {
   "cell_type": "markdown",
   "id": "470de2f0",
   "metadata": {},
   "source": [
    "TRANSFORM IMAGE TO GREYSCALE"
   ]
  },
  {
   "cell_type": "code",
   "execution_count": null,
   "id": "8d203312",
   "metadata": {},
   "outputs": [],
   "source": [
    "#converting an image to grayscale\n",
    "grayScaleImage = cv2.cvtColor(originalmage, cv2.COLOR_BGR2GRAY)\n",
    "ReSized2 = cv2.resize(grayScaleImage, (960, 540))\n",
    "#plt.imshow(ReSized2, cmap='gray')"
   ]
  },
  {
   "cell_type": "markdown",
   "id": "37649384",
   "metadata": {},
   "source": [
    "SMOOTHENING"
   ]
  },
  {
   "cell_type": "code",
   "execution_count": null,
   "id": "a33e13c9",
   "metadata": {},
   "outputs": [],
   "source": [
    "#applying median blur to smoothen an image\n",
    "smoothGrayScale = cv2.medianBlur(grayScaleImage, 5)\n",
    "ReSized3 = cv2.resize(smoothGrayScale, (960, 540))\n",
    "#plt.imshow(ReSized3, cmap='gray')"
   ]
  },
  {
   "cell_type": "markdown",
   "id": "b58b1ad9",
   "metadata": {},
   "source": [
    "RETRIEVING EDGES"
   ]
  },
  {
   "cell_type": "code",
   "execution_count": null,
   "id": "fa23148d",
   "metadata": {},
   "outputs": [],
   "source": [
    "#retrieving the edges for cartoon effect\n",
    "#by using thresholding technique\n",
    "getEdge = cv2.adaptiveThreshold(smoothGrayScale, 255, \n",
    "  cv2.ADAPTIVE_THRESH_MEAN_C, \n",
    "  cv2.THRESH_BINARY, 9, 9)\n",
    "\n",
    "ReSized4 = cv2.resize(getEdge, (960, 540))\n",
    "#plt.imshow(ReSized4, cmap='gray')"
   ]
  },
  {
   "cell_type": "markdown",
   "id": "69eaaf4d",
   "metadata": {},
   "source": [
    "PREPARING MASK"
   ]
  },
  {
   "cell_type": "code",
   "execution_count": null,
   "id": "1f777ad9",
   "metadata": {},
   "outputs": [],
   "source": [
    "#applying bilateral filter to remove noise \n",
    "#and keep edge sharp as required\n",
    "colorImage = cv2.bilateralFilter(originalmage, 9, 300, 300)\n",
    "ReSized5 = cv2.resize(colorImage, (960, 540))\n",
    "#plt.imshow(ReSized5, cmap='gray')"
   ]
  },
  {
   "cell_type": "markdown",
   "id": "d14c2cba",
   "metadata": {},
   "source": [
    "CARTOON EFFECT"
   ]
  },
  {
   "cell_type": "code",
   "execution_count": null,
   "id": "d8dab00c",
   "metadata": {},
   "outputs": [],
   "source": [
    "#masking edged image with our \"BEAUTIFY\" image\n",
    "cartoonImage = cv2.bitwise_and(colorImage, colorImage, mask=getEdge)\n",
    "\n",
    "ReSized6 = cv2.resize(cartoonImage, (960, 540))\n",
    "#plt.imshow(ReSized6, cmap='gray')"
   ]
  },
  {
   "cell_type": "markdown",
   "id": "5d2b6e9a",
   "metadata": {},
   "source": [
    "PLOTTING"
   ]
  },
  {
   "cell_type": "code",
   "execution_count": null,
   "id": "91d2fefc",
   "metadata": {},
   "outputs": [],
   "source": [
    "# Plotting the whole transition\n",
    "images=[ReSized1, ReSized2, ReSized3, ReSized4, ReSized5, ReSized6]\n",
    "fig, axes = plt.subplots(3,2, figsize=(8,8), subplot_kw={'xticks':[], 'yticks':[]}, gridspec_kw=dict(hspace=0.1, wspace=0.1))\n",
    "for i, ax in enumerate(axes.flat):\n",
    "    ax.imshow(images[i], cmap='gray')\n",
    "//save button code\n",
    "plt.show()"
   ]
  },
  {
   "cell_type": "markdown",
   "id": "d1898fef",
   "metadata": {},
   "source": [
    "FUNCTIONALLY OF SAVE"
   ]
  },
  {
   "cell_type": "code",
   "execution_count": null,
   "id": "1ce76a8f",
   "metadata": {},
   "outputs": [],
   "source": [
    "def save(ReSized6, ImagePath):\n",
    "    #saving an image using imwrite()\n",
    "    newName=\"cartoonified_Image\"\n",
    "    path1 = os.path.dirname(ImagePath)\n",
    "    extension=os.path.splitext(ImagePath)[1]\n",
    "    path = os.path.join(path1, newName+extension)\n",
    "    cv2.imwrite(path, cv2.cvtColor(ReSized6, cv2.COLOR_RGB2BGR))\n",
    "    I = \"Image saved by name \" + newName +\" at \"+ path\n",
    "    tk.messagebox.showinfo(title=None, message=I)"
   ]
  },
  {
   "cell_type": "markdown",
   "id": "8ad2e2a8",
   "metadata": {},
   "source": [
    "MAKING A WINDOW"
   ]
  },
  {
   "cell_type": "code",
   "execution_count": null,
   "id": "64770c1a",
   "metadata": {},
   "outputs": [],
   "source": [
    "top=tk.Tk()\n",
    "top.geometry('400x400')\n",
    "top.title('Cartoonify Your Image !')\n",
    "top.configure(background='white')\n",
    "label=Label(top,background='#CDCDCD', font=('calibri',20,'bold'))"
   ]
  },
  {
   "cell_type": "markdown",
   "id": "605daf92",
   "metadata": {},
   "source": [
    "MAKING A CARTOONIFY BUTTON"
   ]
  },
  {
   "cell_type": "code",
   "execution_count": null,
   "id": "447686c0",
   "metadata": {},
   "outputs": [],
   "source": [
    "upload=Button(top,text=\"Cartoonify an Image\",command=upload,padx=10,pady=5)\n",
    "upload.configure(background='#364156', foreground='white',font=('calibri',10,'bold'))\n",
    "upload.pack(side=TOP,pady=50)"
   ]
  },
  {
   "cell_type": "markdown",
   "id": "1b5a30b8",
   "metadata": {},
   "source": [
    "MAKING A SAVE BUTTON"
   ]
  },
  {
   "cell_type": "code",
   "execution_count": null,
   "id": "71e84d6f",
   "metadata": {},
   "outputs": [],
   "source": [
    "save1=Button(top,text=\"Save cartoon image\",command=lambda: save(ImagePath, ReSized6),padx=30,pady=5)\n",
    "save1.configure(background='#364156', foreground='white',font=('calibri',10,'bold'))\n",
    "save1.pack(side=TOP,pady=50)"
   ]
  },
  {
   "cell_type": "markdown",
   "id": "2a8dc930",
   "metadata": {},
   "source": [
    "MAIN FUNCTION OF WINDOW"
   ]
  },
  {
   "cell_type": "code",
   "execution_count": null,
   "id": "9e9f5c8b",
   "metadata": {},
   "outputs": [],
   "source": [
    "top.mainloop()"
   ]
  }
 ],
 "metadata": {
  "kernelspec": {
   "display_name": "Python 3 (ipykernel)",
   "language": "python",
   "name": "python3"
  },
  "language_info": {
   "codemirror_mode": {
    "name": "ipython",
    "version": 3
   },
   "file_extension": ".py",
   "mimetype": "text/x-python",
   "name": "python",
   "nbconvert_exporter": "python",
   "pygments_lexer": "ipython3",
   "version": "3.9.13"
  }
 },
 "nbformat": 4,
 "nbformat_minor": 5
}
